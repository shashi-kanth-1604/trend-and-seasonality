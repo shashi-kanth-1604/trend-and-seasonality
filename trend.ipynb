{
  "nbformat": 4,
  "nbformat_minor": 0,
  "metadata": {
    "colab": {
      "provenance": [],
      "authorship_tag": "ABX9TyNZvFI8q4jJlsHdrGvrhzD0",
      "include_colab_link": true
    },
    "kernelspec": {
      "name": "python3",
      "display_name": "Python 3"
    },
    "language_info": {
      "name": "python"
    }
  },
  "cells": [
    {
      "cell_type": "markdown",
      "metadata": {
        "id": "view-in-github",
        "colab_type": "text"
      },
      "source": [
        "<a href=\"https://colab.research.google.com/github/shashi-kanth-1604/trend-and-seasonality/blob/main/trend.ipynb\" target=\"_parent\"><img src=\"https://colab.research.google.com/assets/colab-badge.svg\" alt=\"Open In Colab\"/></a>"
      ]
    },
    {
      "cell_type": "code",
      "execution_count": null,
      "metadata": {
        "id": "4LVP5xBfrzfd"
      },
      "outputs": [],
      "source": [
        "import pandas as pd\n",
        "import matplotlib.pyplot as plt\n",
        "mine=pd.read_csv('stock.csv')\n",
        "data=mine['date'].astype('category').cat.codes\n",
        "import matplotlib.pyplot as plt\n",
        "\n",
        "def estimate_trend(y, d):\n",
        "    n = len(y)\n",
        "    trend = [0]*n\n",
        "    for t in range(n):\n",
        "        if d % 2 == 1:  # odd d\n",
        "            sum_y = sum(y[max(0, t-d//2):min(n, t+d//2+1)])\n",
        "            count = min(t+1, n-t, d)\n",
        "        else:  # even d\n",
        "            sum_y = sum(y[max(0, t-d//2+1):min(n, t+d//2+1)])\n",
        "            count = min(t+1, n-t, d)\n",
        "        trend[t] = sum_y / count\n",
        "    return trend\n",
        "\n",
        "def estimate_seasonality(y, d, trend):\n",
        "    n = len(y)\n",
        "    seasonality = [0]*n\n",
        "    for t in range(n):\n",
        "        seasonality[t] = y[t] / trend[t]\n",
        "    return seasonality\n",
        "\n",
        "# Example usage:\n",
        "y = mine['MSFT']  # Time series data\n",
        "d = 3  # Number of seasons (odd)\n",
        "# d = 4  # Number of seasons (even)\n",
        "\n",
        "trend = estimate_trend(y, d)\n",
        "seasonality = estimate_seasonality(y, d, trend)\n",
        "z=[]\n",
        "for i in range(len(trend)):\n",
        "    z.append(trend[i]+seasonality[i]-y[i])\n",
        "while True:\n",
        "    if max(z)>0.1 and min(z)<-0.1:\n",
        "        d=d+1\n",
        "        trend=estimate_trend(y, d)\n",
        "        seasonality=estimate_seasonality(y, d, trend)\n",
        "        for i in range(len(trend)):\n",
        "            z.append(trend[i]+seasonality[i]-y[i])\n",
        "    else:\n",
        "        print(d)\n",
        "        break\n",
        "\n",
        "# Plotting\n",
        "plt.figure(figsize=(10, 6))\n",
        "\n",
        "plt.subplot(3, 1, 1)\n",
        "plt.plot(y, label='Original Time Series')\n",
        "plt.legend()\n",
        "\n",
        "plt.subplot(3, 1, 2)\n",
        "plt.plot(trend, label='Trend Component')\n",
        "plt.legend()\n",
        "\n",
        "plt.subplot(3, 1, 3)\n",
        "plt.plot(seasonality, label='Seasonality Component')\n",
        "plt.legend()\n",
        "\n",
        "plt.tight_layout()\n",
        "plt.show()"
      ]
    },
    {
      "cell_type": "code",
      "source": [],
      "metadata": {
        "id": "4ZAr8cbvsatN"
      },
      "execution_count": null,
      "outputs": []
    }
  ]
}